{
 "cells": [
  {
   "cell_type": "code",
   "execution_count": 13,
   "id": "a19910c3",
   "metadata": {},
   "outputs": [
    {
     "name": "stdout",
     "output_type": "stream",
     "text": [
      "the vehicle id is  123 \n",
      " the vehicle cost is 5000 \n",
      "the vehicle type is Four wheeler \n",
      " the premium cost of the vehicle 300.0\n"
     ]
    },
    {
     "data": {
      "text/plain": [
       "('the updated vehicle id is', 420)"
      ]
     },
     "execution_count": 13,
     "metadata": {},
     "output_type": "execute_result"
    }
   ],
   "source": [
    "class vehicle:\n",
    "    def __init__(self,V_id,Type,cost):\n",
    "        self.__V_id=V_id\n",
    "        self.__cost=cost\n",
    "        self.__Type=Type\n",
    "    def details(self):\n",
    "        premium_cost=0\n",
    "        if self.__Type==\"Two wheeler\":\n",
    "            premium_cost=self.__cost*0.02\n",
    "            print(\"the vehicle id is \",self.__V_id,\"\\n the vehicle cost is\",self.__cost,\"\\nthe vehicle type is\",self.__Type,\"\\n the premium cost of the vehicle\",premium_cost)\n",
    "        else:\n",
    "            premium_cost=self.__cost*0.06\n",
    "            print(\"the vehicle id is \",self.__V_id,\"\\n the vehicle cost is\",self.__cost,\"\\nthe vehicle type is\",self.__Type,\"\\n the premium cost of the vehicle\",premium_cost)\n",
    "    def set_up(self,n):\n",
    "        self.__V_id=n\n",
    "    def get_up(self):\n",
    "        return \"the updated vehicle id is\",self.__V_id\n",
    "        \n",
    "obj=vehicle(123,\"Four wheeler\",5000)\n",
    "obj.details()\n",
    "obj.set_up(420)\n",
    "obj.get_up()\n",
    "\n",
    "        \n",
    "        "
   ]
  },
  {
   "cell_type": "code",
   "execution_count": 22,
   "id": "5d5dfa04",
   "metadata": {},
   "outputs": [
    {
     "name": "stdout",
     "output_type": "stream",
     "text": [
      "123\n",
      "2\n"
     ]
    }
   ],
   "source": [
    "l=[1,2,3]\n",
    "s=\"\"\n",
    "for i in l:\n",
    "    s=s+str(i)\n",
    "print(s)\n",
    "dict1={1:2}\n",
    "print(dict1[1])"
   ]
  },
  {
   "cell_type": "code",
   "execution_count": 37,
   "id": "3dd83ee3",
   "metadata": {},
   "outputs": [
    {
     "name": "stdout",
     "output_type": "stream",
     "text": [
      "the age is valid\n",
      "the student is valid for obtaine the cource\n",
      "the fee for the first cource and second cource are 6393.75 3875.0\n"
     ]
    },
    {
     "data": {
      "text/plain": [
       "('the updated student id is', 50)"
      ]
     },
     "execution_count": 37,
     "metadata": {},
     "output_type": "execute_result"
    }
   ],
   "source": [
    "#\n",
    "class GIET:\n",
    "    def __init__(self,student_id,marks,age):\n",
    "        self.__student_id=student_id\n",
    "        self.__marks=marks\n",
    "        self.__age=age\n",
    "    def validate_marks(self):\n",
    "        if self.__marks>=0 and self.__marks<=100:\n",
    "            return True\n",
    "        else:\n",
    "            return False\n",
    "    def validate_age(self):\n",
    "        if self.__age>=20:\n",
    "            print(\"the age is valid\")\n",
    "            self.check_qualification() #instance object is used to call the method\n",
    "        else:\n",
    "            print(\"the age is invalid\")\n",
    "    def check_qualification(self):\n",
    "        if self.__marks>=65:\n",
    "            print(\"the student is valid for obtaine the cource\")\n",
    "            self.course()\n",
    "        else:\n",
    "             print(\"the student is invalid for obtaine the cource\")\n",
    "    def course(self):\n",
    "        fees1=0\n",
    "        fees2=0\n",
    "        courses={'1001':25575.0,'1002':15500.0}\n",
    "        if self.__marks>=85:\n",
    "            fees1=courses['1001']*0.25\n",
    "            fees2=courses['1002']*0.25\n",
    "            print(\"the fee for the first cource and second cource are\",fees1,fees2)\n",
    "        else:\n",
    "            print(\"your marks are not eligible for discount it is\",courses)\n",
    "    def set_up(self,n):\n",
    "        self.__student_id=n\n",
    "    def get_up(self):\n",
    "        return \"the updated student id is\",self.__student_id\n",
    "student=GIET(236,99,34)\n",
    "student.validate_marks()\n",
    "student.validate_age()\n",
    "student.set_up(50)\n",
    "student.get_up()"
   ]
  },
  {
   "cell_type": "code",
   "execution_count": 19,
   "id": "780ac408",
   "metadata": {},
   "outputs": [
    {
     "name": "stdout",
     "output_type": "stream",
     "text": [
      "Your delivery on process\n",
      "it is valid type\n",
      "the service id is M100\n",
      "Your in the valid distance\n",
      "the cost of the pizza 262\n"
     ]
    }
   ],
   "source": [
    "#Pizza world\n",
    "class customer:\n",
    "    def __init__(self,qty,dist,type1):\n",
    "        self.qty=qty\n",
    "        self.dist=dist\n",
    "        self.t1=type1\n",
    "    def Quality_valided(self):\n",
    "        if self.qty<=5:\n",
    "            print(\"Your delivery on process\")\n",
    "            self.validate_type()\n",
    "        else:\n",
    "            print(\"Your quantity is more please reduce\")\n",
    "    def validate_type(self):\n",
    "        service_id=100\n",
    "        s=\"\"\n",
    "        if self.t1==\"small\" or self.t1==\"medium\":\n",
    "            print(\"it is valid type\")\n",
    "            if self.t1==\"small\":\n",
    "                s=\"S\"+str(service_id)\n",
    "                print(\"the service id is\",s)\n",
    "            else:\n",
    "                s=\"M\"+str(service_id)\n",
    "                print(\"the service id is\",s)      \n",
    "        else:\n",
    "            print(\"it is not valid type\")\n",
    "class Pizzaserives(customer):\n",
    "    def additional_toping(self):\n",
    "        print(\"if you need additional topping\")\n",
    "        c=input(\"Enter YES/No\")\n",
    "        if c==\"Yes\":\n",
    "            s=s+1\n",
    "    def validate_distance(self):\n",
    "        if self.dist<=10:\n",
    "            print(\"Your in the valid distance\")\n",
    "            self.calculate_pizza_cost()\n",
    "        else:\n",
    "            print(\"Your in the invalid distance\")\n",
    "    def calculate_pizza_cost(self):\n",
    "        cost={\"small\":150,\"medium\":200}\n",
    "        cost_of_dilivery=0\n",
    "        if self.t1==\"small\" and self.dist<=5:\n",
    "            cost_of_dilivery=5+cost[\"small\"]+35\n",
    "        else:\n",
    "            cost_of_dilivery=12+cost[\"medium\"]+50\n",
    "        print(\"the cost of the pizza\",cost_of_dilivery*self.qty)        \n",
    "pizza=Pizzaserives(1,7,\"medium\")\n",
    "pizza.Quality_valided()\n",
    "pizza.validate_distance()\n",
    "\n"
   ]
  },
  {
   "cell_type": "code",
   "execution_count": null,
   "id": "9c35a9db",
   "metadata": {},
   "outputs": [],
   "source": []
  }
 ],
 "metadata": {
  "kernelspec": {
   "display_name": "Python 3 (ipykernel)",
   "language": "python",
   "name": "python3"
  },
  "language_info": {
   "codemirror_mode": {
    "name": "ipython",
    "version": 3
   },
   "file_extension": ".py",
   "mimetype": "text/x-python",
   "name": "python",
   "nbconvert_exporter": "python",
   "pygments_lexer": "ipython3",
   "version": "3.9.7"
  }
 },
 "nbformat": 4,
 "nbformat_minor": 5
}
